{
  "cells": [
    {
      "cell_type": "markdown",
      "metadata": {
        "id": "JS2Q6-OYFQsZ"
      },
      "source": [
        " # Import Libraries and Dependencies"
      ]
    },
    {
      "cell_type": "code",
      "execution_count": 1,
      "metadata": {
        "id": "oZQhA66WF1eO"
      },
      "outputs": [],
      "source": [
        "# Install necessary libraries\n",
        "!pip install -q nltk\n",
        "!pip install -q autocorrect\n",
        "!pip install -q wordcloud\n",
        "!pip install -q tensorflow"
      ]
    },
    {
      "cell_type": "code",
      "execution_count": 2,
      "metadata": {
        "id": "s29GqxLXFQsd"
      },
      "outputs": [],
      "source": [
        "import numpy as np\n",
        "import pandas as pd\n",
        "import matplotlib.pyplot as plt\n",
        "import seaborn as sns\n",
        "import re\n",
        "import string\n",
        "import nltk\n",
        "from nltk.corpus import stopwords\n",
        "from nltk.stem import PorterStemmer, WordNetLemmatizer\n",
        "from nltk.tokenize import sent_tokenize, word_tokenize\n",
        "from autocorrect import Speller\n",
        "from wordcloud import WordCloud, STOPWORDS\n",
        "from sklearn.model_selection import train_test_split\n",
        "from sklearn.feature_extraction.text import TfidfVectorizer, CountVectorizer, HashingVectorizer\n",
        "from sklearn import metrics\n",
        "from sklearn.naive_bayes import MultinomialNB\n",
        "from sklearn.svm import SVC\n",
        "from sklearn.tree import DecisionTreeClassifier\n",
        "from sklearn.linear_model import LogisticRegression, PassiveAggressiveClassifier\n",
        "from sklearn.ensemble import AdaBoostClassifier, GradientBoostingClassifier\n",
        "from sklearn.neural_network import MLPClassifier\n",
        "from sklearn.manifold import TSNE\n",
        "from tensorflow.keras.preprocessing.text import Tokenizer\n",
        "from tensorflow.keras.preprocessing.sequence import pad_sequences\n",
        "\n",
        "from google.colab import files\n"
      ]
    },
    {
      "cell_type": "markdown",
      "metadata": {
        "id": "GFkWD-lqFQsh"
      },
      "source": [
        " # Download and Set Up NLTK Resources"
      ]
    },
    {
      "cell_type": "code",
      "execution_count": 3,
      "metadata": {
        "colab": {
          "base_uri": "https://localhost:8080/"
        },
        "id": "BZK1_TyDFQsi",
        "outputId": "cef17666-09c7-43c8-ff7f-2ca1181ae181"
      },
      "outputs": [
        {
          "output_type": "stream",
          "name": "stderr",
          "text": [
            "[nltk_data] Downloading package wordnet to /root/nltk_data...\n",
            "[nltk_data]   Package wordnet is already up-to-date!\n",
            "[nltk_data] Downloading package stopwords to /root/nltk_data...\n",
            "[nltk_data]   Package stopwords is already up-to-date!\n",
            "[nltk_data] Downloading package punkt to /root/nltk_data...\n",
            "[nltk_data]   Package punkt is already up-to-date!\n"
          ]
        },
        {
          "output_type": "execute_result",
          "data": {
            "text/plain": [
              "True"
            ]
          },
          "metadata": {},
          "execution_count": 3
        }
      ],
      "source": [
        "nltk.download('wordnet')\n",
        "nltk.download('stopwords')\n",
        "nltk.download('punkt')\n"
      ]
    },
    {
      "cell_type": "markdown",
      "metadata": {
        "id": "LURtEu7RFQsj"
      },
      "source": [
        " # Mount Google Drive (if using Google Colab)"
      ]
    },
    {
      "cell_type": "code",
      "execution_count": 4,
      "metadata": {
        "id": "wowTh7_AFQsj"
      },
      "outputs": [],
      "source": [
        "# from google.colab import drive\n",
        "# drive.mount('/content/drive')\n"
      ]
    },
    {
      "cell_type": "markdown",
      "metadata": {
        "id": "yfOPIMavFQsk"
      },
      "source": [
        "# Download Kaggle Dataset"
      ]
    },
    {
      "cell_type": "code",
      "execution_count": 5,
      "metadata": {
        "colab": {
          "base_uri": "https://localhost:8080/",
          "height": 90
        },
        "id": "nQ7tf4w5FQsk",
        "outputId": "4039cd86-449a-4e9c-ffd3-06d746d954ca"
      },
      "outputs": [
        {
          "output_type": "display_data",
          "data": {
            "text/plain": [
              "<IPython.core.display.HTML object>"
            ],
            "text/html": [
              "\n",
              "     <input type=\"file\" id=\"files-94b98084-163b-4d50-88b0-c13460c95120\" name=\"files[]\" multiple disabled\n",
              "        style=\"border:none\" />\n",
              "     <output id=\"result-94b98084-163b-4d50-88b0-c13460c95120\">\n",
              "      Upload widget is only available when the cell has been executed in the\n",
              "      current browser session. Please rerun this cell to enable.\n",
              "      </output>\n",
              "      <script>// Copyright 2017 Google LLC\n",
              "//\n",
              "// Licensed under the Apache License, Version 2.0 (the \"License\");\n",
              "// you may not use this file except in compliance with the License.\n",
              "// You may obtain a copy of the License at\n",
              "//\n",
              "//      http://www.apache.org/licenses/LICENSE-2.0\n",
              "//\n",
              "// Unless required by applicable law or agreed to in writing, software\n",
              "// distributed under the License is distributed on an \"AS IS\" BASIS,\n",
              "// WITHOUT WARRANTIES OR CONDITIONS OF ANY KIND, either express or implied.\n",
              "// See the License for the specific language governing permissions and\n",
              "// limitations under the License.\n",
              "\n",
              "/**\n",
              " * @fileoverview Helpers for google.colab Python module.\n",
              " */\n",
              "(function(scope) {\n",
              "function span(text, styleAttributes = {}) {\n",
              "  const element = document.createElement('span');\n",
              "  element.textContent = text;\n",
              "  for (const key of Object.keys(styleAttributes)) {\n",
              "    element.style[key] = styleAttributes[key];\n",
              "  }\n",
              "  return element;\n",
              "}\n",
              "\n",
              "// Max number of bytes which will be uploaded at a time.\n",
              "const MAX_PAYLOAD_SIZE = 100 * 1024;\n",
              "\n",
              "function _uploadFiles(inputId, outputId) {\n",
              "  const steps = uploadFilesStep(inputId, outputId);\n",
              "  const outputElement = document.getElementById(outputId);\n",
              "  // Cache steps on the outputElement to make it available for the next call\n",
              "  // to uploadFilesContinue from Python.\n",
              "  outputElement.steps = steps;\n",
              "\n",
              "  return _uploadFilesContinue(outputId);\n",
              "}\n",
              "\n",
              "// This is roughly an async generator (not supported in the browser yet),\n",
              "// where there are multiple asynchronous steps and the Python side is going\n",
              "// to poll for completion of each step.\n",
              "// This uses a Promise to block the python side on completion of each step,\n",
              "// then passes the result of the previous step as the input to the next step.\n",
              "function _uploadFilesContinue(outputId) {\n",
              "  const outputElement = document.getElementById(outputId);\n",
              "  const steps = outputElement.steps;\n",
              "\n",
              "  const next = steps.next(outputElement.lastPromiseValue);\n",
              "  return Promise.resolve(next.value.promise).then((value) => {\n",
              "    // Cache the last promise value to make it available to the next\n",
              "    // step of the generator.\n",
              "    outputElement.lastPromiseValue = value;\n",
              "    return next.value.response;\n",
              "  });\n",
              "}\n",
              "\n",
              "/**\n",
              " * Generator function which is called between each async step of the upload\n",
              " * process.\n",
              " * @param {string} inputId Element ID of the input file picker element.\n",
              " * @param {string} outputId Element ID of the output display.\n",
              " * @return {!Iterable<!Object>} Iterable of next steps.\n",
              " */\n",
              "function* uploadFilesStep(inputId, outputId) {\n",
              "  const inputElement = document.getElementById(inputId);\n",
              "  inputElement.disabled = false;\n",
              "\n",
              "  const outputElement = document.getElementById(outputId);\n",
              "  outputElement.innerHTML = '';\n",
              "\n",
              "  const pickedPromise = new Promise((resolve) => {\n",
              "    inputElement.addEventListener('change', (e) => {\n",
              "      resolve(e.target.files);\n",
              "    });\n",
              "  });\n",
              "\n",
              "  const cancel = document.createElement('button');\n",
              "  inputElement.parentElement.appendChild(cancel);\n",
              "  cancel.textContent = 'Cancel upload';\n",
              "  const cancelPromise = new Promise((resolve) => {\n",
              "    cancel.onclick = () => {\n",
              "      resolve(null);\n",
              "    };\n",
              "  });\n",
              "\n",
              "  // Wait for the user to pick the files.\n",
              "  const files = yield {\n",
              "    promise: Promise.race([pickedPromise, cancelPromise]),\n",
              "    response: {\n",
              "      action: 'starting',\n",
              "    }\n",
              "  };\n",
              "\n",
              "  cancel.remove();\n",
              "\n",
              "  // Disable the input element since further picks are not allowed.\n",
              "  inputElement.disabled = true;\n",
              "\n",
              "  if (!files) {\n",
              "    return {\n",
              "      response: {\n",
              "        action: 'complete',\n",
              "      }\n",
              "    };\n",
              "  }\n",
              "\n",
              "  for (const file of files) {\n",
              "    const li = document.createElement('li');\n",
              "    li.append(span(file.name, {fontWeight: 'bold'}));\n",
              "    li.append(span(\n",
              "        `(${file.type || 'n/a'}) - ${file.size} bytes, ` +\n",
              "        `last modified: ${\n",
              "            file.lastModifiedDate ? file.lastModifiedDate.toLocaleDateString() :\n",
              "                                    'n/a'} - `));\n",
              "    const percent = span('0% done');\n",
              "    li.appendChild(percent);\n",
              "\n",
              "    outputElement.appendChild(li);\n",
              "\n",
              "    const fileDataPromise = new Promise((resolve) => {\n",
              "      const reader = new FileReader();\n",
              "      reader.onload = (e) => {\n",
              "        resolve(e.target.result);\n",
              "      };\n",
              "      reader.readAsArrayBuffer(file);\n",
              "    });\n",
              "    // Wait for the data to be ready.\n",
              "    let fileData = yield {\n",
              "      promise: fileDataPromise,\n",
              "      response: {\n",
              "        action: 'continue',\n",
              "      }\n",
              "    };\n",
              "\n",
              "    // Use a chunked sending to avoid message size limits. See b/62115660.\n",
              "    let position = 0;\n",
              "    do {\n",
              "      const length = Math.min(fileData.byteLength - position, MAX_PAYLOAD_SIZE);\n",
              "      const chunk = new Uint8Array(fileData, position, length);\n",
              "      position += length;\n",
              "\n",
              "      const base64 = btoa(String.fromCharCode.apply(null, chunk));\n",
              "      yield {\n",
              "        response: {\n",
              "          action: 'append',\n",
              "          file: file.name,\n",
              "          data: base64,\n",
              "        },\n",
              "      };\n",
              "\n",
              "      let percentDone = fileData.byteLength === 0 ?\n",
              "          100 :\n",
              "          Math.round((position / fileData.byteLength) * 100);\n",
              "      percent.textContent = `${percentDone}% done`;\n",
              "\n",
              "    } while (position < fileData.byteLength);\n",
              "  }\n",
              "\n",
              "  // All done.\n",
              "  yield {\n",
              "    response: {\n",
              "      action: 'complete',\n",
              "    }\n",
              "  };\n",
              "}\n",
              "\n",
              "scope.google = scope.google || {};\n",
              "scope.google.colab = scope.google.colab || {};\n",
              "scope.google.colab._files = {\n",
              "  _uploadFiles,\n",
              "  _uploadFilesContinue,\n",
              "};\n",
              "})(self);\n",
              "</script> "
            ]
          },
          "metadata": {}
        },
        {
          "output_type": "stream",
          "name": "stdout",
          "text": [
            "Saving kaggle.json to kaggle (1).json\n"
          ]
        },
        {
          "output_type": "execute_result",
          "data": {
            "text/plain": [
              "{'kaggle (1).json': b'{\"username\":\"surajsutradhar\",\"key\":\"f3d5d1c415d1a0ec6878c9dbed5fc823\"}'}"
            ]
          },
          "metadata": {},
          "execution_count": 5
        }
      ],
      "source": [
        "from google.colab import files\n",
        "files.upload()"
      ]
    },
    {
      "cell_type": "code",
      "execution_count": 6,
      "metadata": {
        "id": "LDw8d-MSFQsl"
      },
      "outputs": [],
      "source": [
        "!mkdir -p ~/.kaggle\n",
        "!cp kaggle.json ~/.kaggle/\n",
        "!chmod 600 ~/.kaggle/kaggle.json"
      ]
    },
    {
      "cell_type": "code",
      "execution_count": 7,
      "metadata": {
        "id": "QRDLZSVgFQsm"
      },
      "outputs": [],
      "source": [
        "!pip install -q kaggle"
      ]
    },
    {
      "cell_type": "code",
      "execution_count": 8,
      "metadata": {
        "id": "jTAoP5-5FQsm",
        "colab": {
          "base_uri": "https://localhost:8080/"
        },
        "outputId": "b4be449a-29c4-4d33-f82e-3f326aed60c5"
      },
      "outputs": [
        {
          "output_type": "stream",
          "name": "stdout",
          "text": [
            "fake-news.zip: Skipping, found more recently modified local copy (use --force to force download)\n"
          ]
        }
      ],
      "source": [
        "!kaggle competitions download -c fake-news"
      ]
    },
    {
      "cell_type": "code",
      "execution_count": 9,
      "metadata": {
        "id": "8R36vsS4FQsn",
        "colab": {
          "base_uri": "https://localhost:8080/"
        },
        "outputId": "19ca3f84-be40-4c7c-bc9f-72b73ce69f34"
      },
      "outputs": [
        {
          "output_type": "stream",
          "name": "stdout",
          "text": [
            "Archive:  fake-news.zip\n",
            "replace submit.csv? [y]es, [n]o, [A]ll, [N]one, [r]ename: "
          ]
        }
      ],
      "source": [
        "!unzip fake-news.zip"
      ]
    },
    {
      "cell_type": "markdown",
      "metadata": {
        "id": "gOy0G35kFQsn"
      },
      "source": [
        " # Load Dataset"
      ]
    },
    {
      "cell_type": "code",
      "execution_count": 10,
      "metadata": {
        "id": "KKIG9zHIFQsn"
      },
      "outputs": [],
      "source": [
        "df = pd.read_csv('train.csv')\n",
        "df = df.dropna()\n"
      ]
    },
    {
      "cell_type": "markdown",
      "metadata": {
        "id": "zakmSUIJFQsn"
      },
      "source": [
        " # Data Preprocessing Functions"
      ]
    },
    {
      "cell_type": "code",
      "execution_count": 11,
      "metadata": {
        "id": "_9_mlPlIFQso"
      },
      "outputs": [],
      "source": [
        "# Initialize Lemmatizer, Stemmer, and Spell Checker\n",
        "lemmatizer = WordNetLemmatizer()\n",
        "porter = PorterStemmer()\n",
        "spell = Speller(lang='en')\n",
        "\n",
        "# Text Preprocessing Functions\n",
        "def lower_text(text):\n",
        "    return str(text).lower()\n",
        "\n",
        "def remove_stopwords(text):\n",
        "    stoplist = stopwords.words('english')\n",
        "    return \" \".join([word for word in text.split() if word not in stoplist])\n",
        "\n",
        "def lemmatization(text):\n",
        "    return \" \".join([lemmatizer.lemmatize(word) for word in text.split()])\n",
        "\n",
        "def autospell(text):\n",
        "    return \" \".join([spell(word) for word in text.split()])\n",
        "\n",
        "def stem_sentence(sentence):\n",
        "    token_words = word_tokenize(sentence)\n",
        "    stem_sentence = [porter.stem(word) + \" \" for word in token_words]\n",
        "    return \"\".join(stem_sentence)\n",
        "\n",
        "# Function to Build Corpus\n",
        "def get_corpus(sentence):\n",
        "    corpus = []\n",
        "    token_words = word_tokenize(sentence)\n",
        "    for word in token_words:\n",
        "        corpus.append(word)\n",
        "    return sentence\n"
      ]
    },
    {
      "cell_type": "code",
      "execution_count": 12,
      "metadata": {
        "id": "wTK-Knl5GaaC"
      },
      "outputs": [],
      "source": [
        "# stopwords.words('english')"
      ]
    },
    {
      "cell_type": "markdown",
      "metadata": {
        "id": "PeR6X72DFQso"
      },
      "source": [
        " # Apply Preprocessing to Dataset"
      ]
    },
    {
      "cell_type": "code",
      "execution_count": 13,
      "metadata": {
        "id": "PzJHdRKgFQso"
      },
      "outputs": [],
      "source": [
        "df['text'] = df['text'].apply(lower_text)\n",
        "df['text'] = df['text'].apply(remove_stopwords)\n",
        "df['text'] = df['text'].apply(lemmatization)\n",
        "df['text'] = df['text'].apply(get_corpus)\n",
        "\n",
        "# Drop Empty Text Rows\n",
        "df = df[df['text'].str.len() > 2].sample(frac=1).reset_index(drop=True)\n"
      ]
    },
    {
      "cell_type": "markdown",
      "metadata": {
        "id": "JPdFBplqFQsp"
      },
      "source": [
        " # Exploratory Data Analysis (EDA)"
      ]
    },
    {
      "cell_type": "code",
      "execution_count": 14,
      "metadata": {
        "id": "bDL2GYoNFQsq",
        "colab": {
          "base_uri": "https://localhost:8080/",
          "height": 1000
        },
        "outputId": "7eac0e6a-9543-4c7a-97a5-13c68938c557"
      },
      "outputs": [
        {
          "output_type": "stream",
          "name": "stderr",
          "text": [
            "<ipython-input-14-f08234fed9be>:2: FutureWarning: \n",
            "\n",
            "Passing `palette` without assigning `hue` is deprecated and will be removed in v0.14.0. Assign the `x` variable to `hue` and set `legend=False` for the same effect.\n",
            "\n",
            "  ax = sns.countplot(x='label', data=df, palette='Set1')\n"
          ]
        },
        {
          "output_type": "display_data",
          "data": {
            "text/plain": [
              "<Figure size 640x480 with 1 Axes>"
            ],
            "image/png": "[encoded data removed]"
          },
          "metadata": {}
        },
        {
          "output_type": "display_data",
          "data": {
            "text/plain": [
              "<Figure size 640x480 with 1 Axes>"
            ],
            "image/png": "[encoded data removed]"
          },
          "metadata": {}
        }
      ],
      "source": [
        "# Plotting Distribution of Labels\n",
        "ax = sns.countplot(x='label', data=df, palette='Set1')\n",
        "ax.set_title(\"Bar Chart of Label\")\n",
        "\n",
        "# Pie Chart of Labels\n",
        "labels = ['Real', 'Fake']\n",
        "values = df['label'].value_counts()\n",
        "colors = ['#ff9999', '#66b3ff']\n",
        "explode = (0.05, 0.05)\n",
        "fig1, ax1 = plt.subplots()\n",
        "plt.pie(values, colors=colors, labels=labels, autopct='%1.1f%%', startangle=90, pctdistance=0.85, explode=explode)\n",
        "centre_circle = plt.Circle((0, 0), 0.70, fc='white')\n",
        "fig = plt.gcf()\n",
        "fig.gca().add_artist(centre_circle)\n",
        "ax1.axis('equal')\n",
        "ax1.set_title(\"Pie Chart of Label\", fontdict={'fontsize': 15, 'fontweight': 10}, loc='center')\n",
        "plt.tight_layout()\n",
        "plt.show()\n"
      ]
    },
    {
      "cell_type": "markdown",
      "metadata": {
        "id": "rgmZSSvMFQsq"
      },
      "source": [
        " # Word Cloud Analysis"
      ]
    },
    {
      "cell_type": "code",
      "execution_count": null,
      "metadata": {
        "id": "I1-Y_4sBFQsq"
      },
      "outputs": [],
      "source": [
        "# Word Cloud for All Text\n",
        "text = \" \".join(text for text in df['text'])\n",
        "wordcloud = WordCloud(stopwords=STOPWORDS, background_color=\"white\").generate(text)\n",
        "plt.figure(figsize=(10, 8))\n",
        "plt.imshow(wordcloud, interpolation=\"bilinear\")\n",
        "plt.axis(\"off\")\n",
        "plt.show()\n",
        "\n",
        "# Word Cloud for Fake News\n",
        "text_fake = \" \".join(text for text in df[df['label'] == 1]['text'])\n",
        "wordcloud = WordCloud(stopwords=STOPWORDS, background_color=\"white\").generate(text_fake)\n",
        "plt.figure(figsize=(10, 8))\n",
        "plt.imshow(wordcloud, interpolation=\"bilinear\")\n",
        "plt.axis(\"off\")\n",
        "plt.show()\n",
        "\n",
        "# Word Cloud for Real News\n",
        "text_real = \" \".join(text for text in df[df['label'] == 0]['text'])\n",
        "wordcloud = WordCloud(stopwords=STOPWORDS, background_color=\"white\").generate(text_real)\n",
        "plt.figure(figsize=(10, 8))\n",
        "plt.imshow(wordcloud, interpolation=\"bilinear\")\n",
        "plt.axis(\"off\")\n",
        "plt.show()\n"
      ]
    },
    {
      "cell_type": "markdown",
      "metadata": {
        "id": "i4nIcjxjFQsq"
      },
      "source": [
        " # Feature Engineering"
      ]
    },
    {
      "cell_type": "code",
      "execution_count": null,
      "metadata": {
        "id": "NVrQuiCNFQsr"
      },
      "outputs": [],
      "source": [
        "# Vectorization\n",
        "tf_vectorizer = HashingVectorizer()\n",
        "X_tf = tf_vectorizer.fit_transform(df['text'])\n",
        "y = df['label']\n",
        "\n",
        "# Split Dataset\n",
        "X_train, X_test, y_train, y_test = train_test_split(X_tf, y, test_size=0.33, random_state=42)\n"
      ]
    },
    {
      "cell_type": "markdown",
      "metadata": {
        "id": "xF1cN4JJFQsr"
      },
      "source": [
        "# Machine Learning Models"
      ]
    },
    {
      "cell_type": "markdown",
      "metadata": {
        "id": "ZM-t7jgAFQss"
      },
      "source": [
        "## Model 1: Multinomial Naive Bayes"
      ]
    },
    {
      "cell_type": "code",
      "execution_count": null,
      "metadata": {
        "id": "nRdFwuXdFQss"
      },
      "outputs": [],
      "source": [
        "naive_bayes_classifier = MultinomialNB()\n",
        "naive_bayes_classifier.fit(X_train, y_train)\n",
        "y_pred = naive_bayes_classifier.predict(X_test)\n",
        "print(\"Accuracy:\", metrics.accuracy_score(y_test, y_pred))\n",
        "print(metrics.classification_report(y_test, y_pred))\n",
        "print(\"Confusion Matrix:\\n\", metrics.confusion_matrix(y_test, y_pred))\n"
      ]
    },
    {
      "cell_type": "markdown",
      "metadata": {
        "id": "JnTQ40FWFQss"
      },
      "source": [
        "## Model 2: Support Vector Classifier (SVC)"
      ]
    },
    {
      "cell_type": "code",
      "execution_count": null,
      "metadata": {
        "id": "9TjglqXUFQss"
      },
      "outputs": [],
      "source": [
        "svc_classifier = SVC(gamma='auto')\n",
        "svc_classifier.fit(X_train, y_train)\n",
        "y_pred = svc_classifier.predict(X_test)\n",
        "print(\"Accuracy:\", metrics.accuracy_score(y_test, y_pred))\n",
        "print(metrics.classification_report(y_test, y_pred))\n",
        "print(\"Confusion Matrix:\\n\", metrics.confusion_matrix(y_test, y_pred))\n"
      ]
    },
    {
      "cell_type": "markdown",
      "metadata": {
        "id": "dccKl7ejFQst"
      },
      "source": [
        "## Model 3: Decision Tree Classifier"
      ]
    },
    {
      "cell_type": "code",
      "execution_count": null,
      "metadata": {
        "id": "sx_h5rVYFQst"
      },
      "outputs": [],
      "source": [
        "decision_tree_classifier = DecisionTreeClassifier()\n",
        "decision_tree_classifier.fit(X_train, y_train)\n",
        "y_pred = decision_tree_classifier.predict(X_test)\n",
        "print(\"Accuracy:\", metrics.accuracy_score(y_test, y_pred))\n",
        "print(metrics.classification_report(y_test, y_pred))\n",
        "print(\"Confusion Matrix:\\n\", metrics.confusion_matrix(y_test, y_pred))\n"
      ]
    },
    {
      "cell_type": "markdown",
      "metadata": {
        "id": "eiDK4z0JFQsu"
      },
      "source": [
        "## Model 4: Logistic Regression"
      ]
    },
    {
      "cell_type": "code",
      "execution_count": null,
      "metadata": {
        "id": "tevRLjfzFQsv"
      },
      "outputs": [],
      "source": [
        "logistic_regression_classifier = LogisticRegression()\n",
        "logistic_regression_classifier.fit(X_train, y_train)\n",
        "y_pred = logistic_regression_classifier.predict(X_test)\n",
        "print(\"Accuracy:\", metrics.accuracy_score(y_test, y_pred))\n",
        "print(metrics.classification_report(y_test, y_pred))\n",
        "print(\"Confusion Matrix:\\n\", metrics.confusion_matrix(y_test, y_pred))\n"
      ]
    },
    {
      "cell_type": "markdown",
      "metadata": {
        "id": "l-0VHrElFQsv"
      },
      "source": [
        "# Deep Learning Models"
      ]
    },
    {
      "cell_type": "markdown",
      "metadata": {
        "id": "viRjVz0xFQsv"
      },
      "source": [
        "## Model 1: Multi-Layer Perceptron(MLP) Classifier"
      ]
    },
    {
      "cell_type": "code",
      "execution_count": null,
      "metadata": {
        "id": "oYYmXhwoFQsv"
      },
      "outputs": [],
      "source": [
        "mlp_classifier = MLPClassifier()\n",
        "mlp_classifier.fit(X_train, y_train)\n",
        "y_pred = mlp_classifier.predict(X_test)\n",
        "print(\"Accuracy:\", metrics.accuracy_score(y_test, y_pred))\n",
        "print(metrics.classification_report(y_test, y_pred))\n",
        "print(\"Confusion Matrix:\\n\", metrics.confusion_matrix(y_test, y_pred))\n"
      ]
    },
    {
      "cell_type": "markdown",
      "metadata": {
        "id": "nKo2C-YcFQsw"
      },
      "source": [
        "## Model 2: LSTM on Tokenized Text"
      ]
    },
    {
      "cell_type": "code",
      "execution_count": null,
      "metadata": {
        "id": "hbu83SkpFQsw"
      },
      "outputs": [],
      "source": [
        "max_features = 348\n",
        "tokenizer = Tokenizer(num_words=max_features, filters='!\"#$%&()*+,-./:;<=>?@[\\\\]^_`{|}~\\t\\n', lower=True, split=' ')\n",
        "tokenizer.fit_on_texts(df['text'])\n",
        "X_seq = tokenizer.texts_to_sequences(df['text'])\n",
        "X_pad = pad_sequences(X_seq, padding='post')\n",
        "\n",
        "X_train_seq, X_test_seq, y_train_seq, y_test_seq = train_test_split(X_pad, y, test_size=0.33, random_state=42)\n",
        "\n",
        "# Building LSTM Model\n",
        "from tensorflow.keras.models import Sequential\n",
        "from tensorflow.keras.layers import Embedding, LSTM, Dense\n",
        "\n",
        "model = Sequential()\n",
        "model.add(Embedding(max_features, 100))\n",
        "model.add(LSTM(128))\n",
        "model.add(Dense(1, activation='sigmoid'))\n",
        "model.compile(loss='binary_crossentropy', optimizer='adam', metrics=['accuracy'])\n",
        "\n",
        "# Training the Model\n",
        "model.fit(X_train_seq, y_train_seq, epochs=5, batch_size=64, validation_split=0.2)\n",
        "score = model.evaluate(X_test_seq, y_test_seq)\n",
        "print(\"LSTM Accuracy:\", score[1])\n"
      ]
    }
  ],
  "metadata": {
    "colab": {
      "provenance": []
    },
    "kernelspec": {
      "display_name": "Python 3",
      "name": "python3"
    },
    "language_info": {
      "name": "python"
    }
  },
  "nbformat": 4,
  "nbformat_minor": 0
}
